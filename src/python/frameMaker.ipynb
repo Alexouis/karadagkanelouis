{
 "cells": [
  {
   "cell_type": "code",
   "execution_count": 1,
   "metadata": {},
   "outputs": [
    {
     "ename": "SyntaxError",
     "evalue": "invalid syntax (484213094.py, line 9)",
     "output_type": "error",
     "traceback": [
      "\u001b[0;36m  File \u001b[0;32m\"/tmp/ipykernel_16902/484213094.py\"\u001b[0;36m, line \u001b[0;32m9\u001b[0m\n\u001b[0;31m    im1_s =    (im1, dsize=(0, 0), fx=0.5, fy=0.5)\u001b[0m\n\u001b[0m                          ^\u001b[0m\n\u001b[0;31mSyntaxError\u001b[0m\u001b[0;31m:\u001b[0m invalid syntax\n"
     ]
    }
   ],
   "source": [
    "import cv2\n",
    "import numpy as np\n",
    "\n",
    "im1 = cv2.imread('/home/mkas/ENSEA/karadagkanelouis/res/demon/demon/demon_attack_nw/01.png')\n",
    "\n",
    "def concat_tile(im_list_2d):\n",
    "    return cv2.vconcat([cv2.hconcat(im_list_h) for im_list_h in im_list_2d])\n",
    "\n",
    "im1_s =    (im1, dsize=(0, 0), fx=0.5, fy=0.5)\n",
    "im_tile = concat_tile([[im1_s, im1_s, im1_s, im1_s],\n",
    "                       [im1_s, im1_s, im1_s, im1_s],\n",
    "                       [im1_s, im1_s, im1_s, im1_s]])\n",
    "\n",
    "\n",
    "cv2.imshow(\"Resized image\", im_tile)\n",
    "cv2.waitKey(0)\n",
    "cv2.destroyAllWindows()\n",
    "cv2.imwrite('res/python_Out', im_tile)"
   ]
  }
 ],
 "metadata": {
  "interpreter": {
   "hash": "916dbcbb3f70747c44a77c7bcd40155683ae19c65e1c03b4aa3499c5328201f1"
  },
  "kernelspec": {
   "display_name": "Python 3.9.7 64-bit",
   "name": "python3"
  },
  "language_info": {
   "codemirror_mode": {
    "name": "ipython",
    "version": 3
   },
   "file_extension": ".py",
   "mimetype": "text/x-python",
   "name": "python",
   "nbconvert_exporter": "python",
   "pygments_lexer": "ipython3",
   "version": "3.9.7"
  },
  "orig_nbformat": 4
 },
 "nbformat": 4,
 "nbformat_minor": 2
}
